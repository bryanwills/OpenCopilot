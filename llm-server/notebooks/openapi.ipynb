{
 "cells": [
  {
   "cell_type": "code",
   "execution_count": 258,
   "metadata": {},
   "outputs": [],
   "source": [
    "from langchain.agents import create_openapi_agent\n",
    "from langchain.agents.agent_toolkits import OpenAPIToolkit\n",
    "from langchain.llms.openai import OpenAI\n",
    "from langchain.requests import TextRequestsWrapper\n",
    "from langchain.tools.json.tool import JsonSpec\n",
    "import json, yaml"
   ]
  },
  {
   "cell_type": "code",
   "execution_count": 259,
   "metadata": {},
   "outputs": [],
   "source": [
    "def get_api_operation_by_id(json_spec, s_operation_id):\n",
    "    paths = json_spec.dict_.get(\"paths\", {})\n",
    "    for path, methods in paths.items():\n",
    "        for method, operation in methods.items():\n",
    "            # Check if 'operation' is a dictionary\n",
    "            if isinstance(operation, dict):\n",
    "                operation_id = operation.get(\"operationId\")\n",
    "                \n",
    "                if operation_id == s_operation_id:\n",
    "                    return operation, method\n",
    "            else:\n",
    "                # Handle the case where 'operation' is not a dictionary\n",
    "                # print(f\"Skipping invalid operation: {operation}\")\n",
    "                pass\n"
   ]
  },
  {
   "cell_type": "code",
   "execution_count": 263,
   "metadata": {},
   "outputs": [],
   "source": [
    "import re\n",
    "\n",
    "def resolve_refs(input_dict, json_spec):\n",
    "    # Check if the input_dict is a dictionary and contains a '$ref' key\n",
    "    if isinstance(input_dict, dict) and '$ref' in input_dict:\n",
    "        ref_value = input_dict['$ref']\n",
    "        \n",
    "        # Use regular expression to extract the schema name\n",
    "        match = re.match(r'#/components/schemas/(\\w+)', ref_value)\n",
    "        if match:\n",
    "            schema_name = match.group(1)\n",
    "            \n",
    "            # Try to find the corresponding schema in the json_spec dictionary\n",
    "            schema = json_spec.dict_.get(\"components\", {}).get(\"schemas\", {}).get(schema_name)\n",
    "            \n",
    "            # If a matching schema is found, replace the '$ref' key with the schema\n",
    "            if schema:\n",
    "                return schema\n",
    "        \n",
    "    # Recursively process nested dictionaries and lists\n",
    "    if isinstance(input_dict, dict):\n",
    "        for key, value in input_dict.items():\n",
    "            input_dict[key] = resolve_refs(value, json_spec)\n",
    "    elif isinstance(input_dict, list):\n",
    "        for i, item in enumerate(input_dict):\n",
    "            input_dict[i] = resolve_refs(item, json_spec)\n",
    "    \n",
    "    return input_dict\n",
    "\n",
    "import re\n",
    "\n",
    "# ref_list -> [{'$ref': '#/components/parameters/QueryAlbumIds'},\n",
    "#  {'$ref': '#/components/parameters/QueryMarket'}]\n",
    "\n",
    "def hydrateParams(json_spec, ref_list):\n",
    "    last_portion_list = []\n",
    "    \n",
    "    for ref in ref_list:\n",
    "        if '$ref' in ref:  # Check if '$ref' exists in the dictionary\n",
    "            match = re.search(r'/([^/]+)$', ref['$ref'])\n",
    "            if match:\n",
    "                last_portion_list.append(json_spec[\"components\"][\"parameters\"][match.group(1)])\n",
    "        else:\n",
    "            # If '$ref' doesn't exist, add the reference as is\n",
    "            last_portion_list.append(ref)\n",
    "    \n",
    "    return last_portion_list"
   ]
  },
  {
   "cell_type": "code",
   "execution_count": 261,
   "metadata": {},
   "outputs": [],
   "source": [
    "def process_api_operation(method, api_operation, json_spec):\n",
    "    if method == \"get\":\n",
    "        return api_operation\n",
    "    \n",
    "    request_body = api_operation.get(\"requestBody\")\n",
    "    \n",
    "    if not isinstance(request_body, dict):\n",
    "        return api_operation  # Return the request_schema if it's not a dictionary\n",
    "    \n",
    "    request_schema = request_body[\"content\"][\"application/json\"][\"schema\"]\n",
    "    resolved_request = resolve_refs(request_schema, json_spec.dict_)\n",
    "    return resolved_request"
   ]
  },
  {
   "cell_type": "code",
   "execution_count": 264,
   "metadata": {},
   "outputs": [
    {
     "name": "stdout",
     "output_type": "stream",
     "text": [
      "[{'in': 'query', 'name': 'device_id', 'required': False, 'schema': {'description': \"The id of the device this command is targeting. If not supplied, the user's currently active device is the target.\\n\", 'example': '0d1841b0976bae2a3a310dd74c0f3df354899bc8', 'title': 'Device ID', 'type': 'string'}}]\n"
     ]
    },
    {
     "data": {
      "text/plain": [
       "{'description': \"Pause playback on the user's account.\\n\",\n",
       " 'operationId': 'pause-a-users-playback',\n",
       " 'parameters': [{'in': 'query',\n",
       "   'name': 'device_id',\n",
       "   'required': False,\n",
       "   'schema': {'description': \"The id of the device this command is targeting. If not supplied, the user's currently active device is the target.\\n\",\n",
       "    'example': '0d1841b0976bae2a3a310dd74c0f3df354899bc8',\n",
       "    'title': 'Device ID',\n",
       "    'type': 'string'}}],\n",
       " 'responses': {'204': {'description': 'Playback paused'},\n",
       "  '401': {'$ref': '#/components/responses/Unauthorized'},\n",
       "  '403': {'$ref': '#/components/responses/Forbidden'},\n",
       "  '429': {'$ref': '#/components/responses/TooManyRequests'}},\n",
       " 'security': [{'oauth_2_0': ['user-modify-playback-state']}],\n",
       " 'summary': 'Pause Playback\\n',\n",
       " 'tags': ['Player'],\n",
       " 'x-spotify-docs-console-url': '/console/put-pause/',\n",
       " 'x-spotify-docs-endpoint-name': \"Pause a User's Playback\",\n",
       " 'x-spotify-policy-list': {'$ref': '#/components/x-spotify-policy/playerPolicyList'}}"
      ]
     },
     "execution_count": 264,
     "metadata": {},
     "output_type": "execute_result"
    }
   ],
   "source": [
    "with open(\"openapi.yaml\") as f:\n",
    "    data = yaml.load(f, Loader=yaml.FullLoader)\n",
    "json_spec = JsonSpec(dict_=data, max_value_length=4000)\n",
    "\n",
    "api_operation, method=get_api_operation_by_id(json_spec, \"pause-a-users-playback\")\n",
    "isolated_request = process_api_operation(method, api_operation, json_spec)\n",
    "\n",
    "print(isolated_request[\"parameters\"])\n",
    "if isolated_request and isolated_request[\"parameters\"]:\n",
    "    isolated_request[\"parameters\"] = hydrateParams(json_spec.dict_, isolated_request[\"parameters\"])\n",
    "\n",
    "isolated_request"
   ]
  },
  {
   "cell_type": "code",
   "execution_count": null,
   "metadata": {},
   "outputs": [],
   "source": []
  }
 ],
 "metadata": {
  "kernelspec": {
   "display_name": "venv",
   "language": "python",
   "name": "python3"
  },
  "language_info": {
   "codemirror_mode": {
    "name": "ipython",
    "version": 3
   },
   "file_extension": ".py",
   "mimetype": "text/x-python",
   "name": "python",
   "nbconvert_exporter": "python",
   "pygments_lexer": "ipython3",
   "version": "3.8.17"
  },
  "orig_nbformat": 4
 },
 "nbformat": 4,
 "nbformat_minor": 2
}
