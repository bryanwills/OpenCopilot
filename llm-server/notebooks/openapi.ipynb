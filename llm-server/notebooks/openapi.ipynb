{
 "cells": [
  {
   "cell_type": "code",
   "execution_count": 36,
   "metadata": {},
   "outputs": [
    {
     "data": {
      "text/plain": [
       "True"
      ]
     },
     "execution_count": 36,
     "metadata": {},
     "output_type": "execute_result"
    }
   ],
   "source": [
    "from langchain.agents import create_openapi_agent\n",
    "from langchain.agents.agent_toolkits import OpenAPIToolkit\n",
    "from langchain.requests import TextRequestsWrapper\n",
    "from langchain.tools.json.tool import JsonSpec\n",
    "import json, yaml\n",
    "from dotenv import load_dotenv\n",
    "\n",
    "load_dotenv()"
   ]
  },
  {
   "cell_type": "code",
   "execution_count": 37,
   "metadata": {},
   "outputs": [],
   "source": [
    "def get_api_operation_by_id(json_spec, s_operation_id):\n",
    "    paths = json_spec.dict_.get(\"paths\", {})\n",
    "    for path, methods in paths.items():\n",
    "        for method, operation in methods.items():\n",
    "            # Check if 'operation' is a dictionary\n",
    "            if isinstance(operation, dict):\n",
    "                operation_id = operation.get(\"operationId\")\n",
    "                \n",
    "                if operation_id == s_operation_id:\n",
    "                    return operation, method\n",
    "            else:\n",
    "                # Handle the case where 'operation' is not a dictionary\n",
    "                # print(f\"Skipping invalid operation: {operation}\")\n",
    "                pass\n"
   ]
  },
  {
   "cell_type": "code",
   "execution_count": 38,
   "metadata": {},
   "outputs": [],
   "source": [
    "import re\n",
    "\n",
    "def resolve_refs(input_dict, json_spec):\n",
    "    # Check if the input_dict is a dictionary and contains a '$ref' key\n",
    "    if isinstance(input_dict, dict) and '$ref' in input_dict:\n",
    "        ref_value = input_dict['$ref']\n",
    "        \n",
    "        # Use regular expression to extract the schema name\n",
    "        match = re.match(r'#/components/schemas/(\\w+)', ref_value)\n",
    "        if match:\n",
    "            schema_name = match.group(1)\n",
    "            \n",
    "            # Try to find the corresponding schema in the json_spec dictionary\n",
    "            schema = json_spec.dict_.get(\"components\", {}).get(\"schemas\", {}).get(schema_name)\n",
    "            \n",
    "            # If a matching schema is found, replace the '$ref' key with the schema\n",
    "            if schema:\n",
    "                return schema\n",
    "        \n",
    "    # Recursively process nested dictionaries and lists\n",
    "    if isinstance(input_dict, dict):\n",
    "        for key, value in input_dict.items():\n",
    "            input_dict[key] = resolve_refs(value, json_spec)\n",
    "    elif isinstance(input_dict, list):\n",
    "        for i, item in enumerate(input_dict):\n",
    "            input_dict[i] = resolve_refs(item, json_spec)\n",
    "    \n",
    "    return input_dict\n",
    "\n",
    "import re\n",
    "\n",
    "# ref_list -> [{'$ref': '#/components/parameters/QueryAlbumIds'},\n",
    "#  {'$ref': '#/components/parameters/QueryMarket'}]\n",
    "\n",
    "def hydrateParams(json_spec, ref_list):\n",
    "    last_portion_list = []\n",
    "    \n",
    "    for ref in ref_list:\n",
    "        if '$ref' in ref:  # Check if '$ref' exists in the dictionary\n",
    "            match = re.search(r'/([^/]+)$', ref['$ref'])\n",
    "            if match:\n",
    "                last_portion_list.append(json_spec[\"components\"][\"parameters\"][match.group(1)])\n",
    "        else:\n",
    "            # If '$ref' doesn't exist, add the reference as is\n",
    "            last_portion_list.append(ref)\n",
    "    \n",
    "    return last_portion_list"
   ]
  },
  {
   "cell_type": "code",
   "execution_count": 39,
   "metadata": {},
   "outputs": [],
   "source": [
    "def process_api_operation(method, api_operation, json_spec):    \n",
    "    request_body = api_operation.get(\"requestBody\")\n",
    "    \n",
    "    if not isinstance(request_body, dict):\n",
    "        return api_operation  # Return the request_schema if it's not a dictionary\n",
    "    \n",
    "    request_body = request_body[\"content\"][\"application/json\"][\"schema\"]\n",
    "    request_body = resolve_refs(request_body, json_spec.dict_)\n",
    "    api_operation[\"request_body\"] = request_body\n",
    "    return api_operation"
   ]
  },
  {
   "cell_type": "code",
   "execution_count": 40,
   "metadata": {},
   "outputs": [],
   "source": [
    "with open(\"openapi.yaml\") as f:\n",
    "    data = yaml.load(f, Loader=yaml.FullLoader)\n",
    "json_spec = JsonSpec(dict_=data, max_value_length=4000)\n",
    "\n",
    "api_operation, method=get_api_operation_by_id(json_spec, \"check-users-saved-albums\")\n",
    "isolated_request = process_api_operation(method, api_operation, json_spec)\n",
    "\n",
    "if isolated_request and \"parameters\" in isolated_request:\n",
    "    isolated_request[\"parameters\"] = hydrateParams(json_spec.dict_, isolated_request[\"parameters\"])\n"
   ]
  },
  {
   "cell_type": "code",
   "execution_count": 41,
   "metadata": {},
   "outputs": [],
   "source": [
    "from langchain.llms.openai import OpenAI\n",
    "import os\n",
    "\n",
    "openai_api_key = os.getenv(\"OPENAI_API_KEY\")\n",
    "\n",
    "llm = OpenAI(openai_api_key=openai_api_key)\n",
    "from langchain.llms import OpenAI\n",
    "from langchain import PromptTemplate, LLMChain"
   ]
  },
  {
   "cell_type": "code",
   "execution_count": 84,
   "metadata": {},
   "outputs": [],
   "source": [
    "from langchain.memory import VectorStoreRetrieverMemory\n",
    "from langchain.embeddings.openai import OpenAIEmbeddings\n",
    "from langchain.vectorstores import Qdrant\n",
    "from langchain.docstore import InMemoryDocstore\n",
    "from langchain.embeddings.openai import OpenAIEmbeddings\n",
    "import qdrant_client\n",
    "from uuid import uuid4\n",
    "from qdrant_client.models import Distance, VectorParams\n",
    "\n",
    "embeddings = OpenAIEmbeddings(openai_api_key=openai_api_key)\n",
    "client = qdrant_client.QdrantClient(url=\"http://localhost:6333\", prefer_grpc=True)\n",
    "temp_coll = \"second_coll\"\n",
    "client.delete_collection(temp_coll) # just for testing or maybe even for prod!!!\n",
    "client.create_collection(temp_coll, vectors_config=VectorParams(size=1536, distance=Distance.COSINE))\n",
    "vector_store = Qdrant(client, collection_name=temp_coll, embeddings=embeddings)\n",
    "\n",
    "\n",
    "# Create the VectorStoreRetrieverMemory\n",
    "retriever = vector_store.as_retriever()\n",
    "memory = VectorStoreRetrieverMemory(retriever=retriever)"
   ]
  },
  {
   "cell_type": "code",
   "execution_count": 88,
   "metadata": {},
   "outputs": [
    {
     "name": "stdout",
     "output_type": "stream",
     "text": [
      "\n",
      "\n",
      "\u001b[1m> Entering new ConversationChain chain...\u001b[0m\n",
      "Prompt after formatting:\n",
      "\u001b[32;1m\u001b[1;3mYou are an assistant helping me build a http requests. You will be given the following pieces of information. Access to our past conversation. A user query and an excerpt from openapi swagger for generating the correct response. Your response MUST be a valid json, use query_param key to denote query parameter. Use body key to denote the body and route_parameter to denote the route params. Wrap the json inside three backticks\n",
      "\n",
      "Previous conversations:\n",
      "input: I want to add album 889234ssdfa, the openapi schema is {'description': \"Check if one or more albums is already saved in the current Spotify user's 'Your Music' library.\\n\", 'operationId': 'check-users-saved-albums', 'parameters': [{'in': 'query', 'name': 'ids', 'required': True, 'schema': {'description': 'A comma-separated list of the [Spotify IDs](/documentation/web-api/concepts/spotify-uris-ids) for the albums. Maximum: 20 IDs.\\n', 'example': '382ObEPsp2rxGrnsizN5TX,1A2GTWGtFfWp7KSQTwWOyo,2noRn2Aes5aoNVsU6iWThc', 'title': 'Spotify Album IDs', 'type': 'string'}}], 'responses': {'200': {'$ref': '#/components/responses/ArrayOfBooleans'}, '401': {'$ref': '#/components/responses/Unauthorized'}, '403': {'$ref': '#/components/responses/Forbidden'}, '429': {'$ref': '#/components/responses/TooManyRequests'}}, 'security': [{'oauth_2_0': ['user-library-read']}], 'summary': \"Check User's Saved Albums\\n\", 'tags': ['Albums', 'Library'], 'x-spotify-docs-console-url': '/console/get-current-user-contains-saved-albums/?ids=0pJJgBzj26qnE1nSQUxaB0%2C5ZAKzV4ZIa5Gt7z29OYHv0', 'x-spotify-docs-endpoint-name': \"Check User's Saved Albums\"}\n",
      "\n",
      "response: \n",
      "\n",
      "{\n",
      "  \"route_parameter\": {},\n",
      "  \"query_param\": {\n",
      "    \"ids\": \"889234ssdfa\"\n",
      "  },\n",
      "  \"body\": {}\n",
      "}\n",
      "\n",
      "(You do not need to use these pieces of information if not relevant)\n",
      "\n",
      "Human Input:\n",
      "Human: I want to add album 889234ssdfa, the openapi schema is {'description': \"Check if one or more albums is already saved in the current Spotify user's 'Your Music' library.\\n\", 'operationId': 'check-users-saved-albums', 'parameters': [{'in': 'query', 'name': 'ids', 'required': True, 'schema': {'description': 'A comma-separated list of the [Spotify IDs](/documentation/web-api/concepts/spotify-uris-ids) for the albums. Maximum: 20 IDs.\\n', 'example': '382ObEPsp2rxGrnsizN5TX,1A2GTWGtFfWp7KSQTwWOyo,2noRn2Aes5aoNVsU6iWThc', 'title': 'Spotify Album IDs', 'type': 'string'}}], 'responses': {'200': {'$ref': '#/components/responses/ArrayOfBooleans'}, '401': {'$ref': '#/components/responses/Unauthorized'}, '403': {'$ref': '#/components/responses/Forbidden'}, '429': {'$ref': '#/components/responses/TooManyRequests'}}, 'security': [{'oauth_2_0': ['user-library-read']}], 'summary': \"Check User's Saved Albums\\n\", 'tags': ['Albums', 'Library'], 'x-spotify-docs-console-url': '/console/get-current-user-contains-saved-albums/?ids=0pJJgBzj26qnE1nSQUxaB0%2C5ZAKzV4ZIa5Gt7z29OYHv0', 'x-spotify-docs-endpoint-name': \"Check User's Saved Albums\"}\n",
      "\n",
      "The API payload is: \u001b[0m\n",
      "\n",
      "\u001b[1m> Finished chain.\u001b[0m\n"
     ]
    }
   ],
   "source": [
    "from langchain.prompts import PromptTemplate\n",
    "\n",
    "from langchain.chains import ConversationChain\n",
    "\n",
    "_DEFAULT_TEMPLATE = \"\"\"You are an assistant helping me build a http requests. You will be given the following pieces of information. Access to our past conversation. A user query and an excerpt from openapi swagger for generating the correct response. Your response MUST be a valid json, use query_param key to denote query parameter. Use body key to denote the body and route_parameter to denote the route params. Wrap the json inside three backticks\n",
    "\n",
    "Previous conversations:\n",
    "{history}\n",
    "\n",
    "(You do not need to use these pieces of information if not relevant)\n",
    "\n",
    "Human Input:\n",
    "Human: {input}\n",
    "The API payload is: \"\"\"\n",
    "\n",
    "PROMPT = PromptTemplate(\n",
    "    input_variables=[\"history\", \"input\"], template=_DEFAULT_TEMPLATE\n",
    ")\n",
    "conversation_with_summary = ConversationChain(\n",
    "    llm=llm, \n",
    "    prompt=PROMPT,\n",
    "    memory=memory,\n",
    "    verbose=True\n",
    ")\n",
    "json_string = conversation_with_summary.predict(input=f\"\"\"I want to add album 889234ssdfa, the openapi schema is {isolated_request}\n",
    "\"\"\")\n"
   ]
  },
  {
   "cell_type": "code",
   "execution_count": 89,
   "metadata": {},
   "outputs": [],
   "source": [
    "\n",
    "def extract_json_payload(input_string):\n",
    "    try:\n",
    "        # Find the start and end positions of the JSON payload\n",
    "        start_index = input_string.find('```json') + len('```json')\n",
    "        end_index = input_string.rfind('```')\n",
    "\n",
    "        # Extract the JSON payload\n",
    "        json_payload = input_string[start_index:end_index]\n",
    "\n",
    "        # Parse the JSON payload\n",
    "        parsed_json = json.loads(json_payload)\n",
    "        return parsed_json\n",
    "    except json.JSONDecodeError as e:\n",
    "        return None, f\"Error parsing JSON: {e}\""
   ]
  },
  {
   "cell_type": "code",
   "execution_count": 94,
   "metadata": {},
   "outputs": [
    {
     "data": {
      "text/plain": [
       "{'route_parameter': {}, 'query_param': {'ids': '889234ssdfa'}, 'body': {}}"
      ]
     },
     "execution_count": 94,
     "metadata": {},
     "output_type": "execute_result"
    }
   ],
   "source": [
    "json_string\n",
    "\n",
    "response = extract_json_payload(json_string)\n",
    "vector_store.add_texts([json_string])\n",
    "\n",
    "response"
   ]
  }
 ],
 "metadata": {
  "kernelspec": {
   "display_name": "venv",
   "language": "python",
   "name": "python3"
  },
  "language_info": {
   "codemirror_mode": {
    "name": "ipython",
    "version": 3
   },
   "file_extension": ".py",
   "mimetype": "text/x-python",
   "name": "python",
   "nbconvert_exporter": "python",
   "pygments_lexer": "ipython3",
   "version": "3.8.17"
  },
  "orig_nbformat": 4
 },
 "nbformat": 4,
 "nbformat_minor": 2
}
