{
 "cells": [
  {
   "cell_type": "code",
   "execution_count": 171,
   "metadata": {},
   "outputs": [],
   "source": [
    "from langchain.agents import create_openapi_agent\n",
    "from langchain.agents.agent_toolkits import OpenAPIToolkit\n",
    "from langchain.llms.openai import OpenAI\n",
    "from langchain.requests import TextRequestsWrapper\n",
    "from langchain.tools.json.tool import JsonSpec\n",
    "import json, yaml"
   ]
  },
  {
   "cell_type": "code",
   "execution_count": 172,
   "metadata": {},
   "outputs": [],
   "source": [
    "with open(\"openapi.yaml\") as f:\n",
    "    data = yaml.load(f, Loader=yaml.FullLoader)\n",
    "json_spec = JsonSpec(dict_=data, max_value_length=4000)"
   ]
  },
  {
   "cell_type": "code",
   "execution_count": 173,
   "metadata": {},
   "outputs": [],
   "source": [
    "def get_api_operation_by_id(json_spec, operation_id):\n",
    "    paths = json_spec.dict_.get(\"paths\", {})\n",
    "    for path, methods in paths.items():\n",
    "        for method, operation in methods.items():\n",
    "            # Check if 'operation' is a dictionary\n",
    "            if isinstance(operation, dict):\n",
    "                operation_id = operation.get(\"operationId\")\n",
    "                \n",
    "                if operation_id == operation_id:\n",
    "                    return operation, method\n",
    "            else:\n",
    "                # Handle the case where 'operation' is not a dictionary\n",
    "                print(f\"Skipping invalid operation: {operation}\")\n"
   ]
  },
  {
   "cell_type": "code",
   "execution_count": 174,
   "metadata": {},
   "outputs": [],
   "source": [
    "import re\n",
    "\n",
    "def resolve_refs(input_dict, json_spec):\n",
    "    # Check if the input_dict is a dictionary and contains a '$ref' key\n",
    "    if isinstance(input_dict, dict) and '$ref' in input_dict:\n",
    "        ref_value = input_dict['$ref']\n",
    "        \n",
    "        # Use regular expression to extract the schema name\n",
    "        match = re.match(r'#/components/schemas/(\\w+)', ref_value)\n",
    "        if match:\n",
    "            schema_name = match.group(1)\n",
    "            \n",
    "            # Try to find the corresponding schema in the json_spec dictionary\n",
    "            schema = json_spec.dict_.get(\"components\", {}).get(\"schemas\", {}).get(schema_name)\n",
    "            \n",
    "            # If a matching schema is found, replace the '$ref' key with the schema\n",
    "            if schema:\n",
    "                return schema\n",
    "        \n",
    "    # Recursively process nested dictionaries and lists\n",
    "    if isinstance(input_dict, dict):\n",
    "        for key, value in input_dict.items():\n",
    "            input_dict[key] = resolve_refs(value, json_spec)\n",
    "    elif isinstance(input_dict, list):\n",
    "        for i, item in enumerate(input_dict):\n",
    "            input_dict[i] = resolve_refs(item, json_spec)\n",
    "    \n",
    "    return input_dict\n",
    "\n",
    "import re\n",
    "\n",
    "# ref_list -> [{'$ref': '#/components/parameters/QueryAlbumIds'},\n",
    "#  {'$ref': '#/components/parameters/QueryMarket'}]\n",
    "\n",
    "def hydrateParams(json_spec, ref_list):\n",
    "    last_portion_list = []\n",
    "    \n",
    "    for ref in ref_list:\n",
    "        match = re.search(r'/([^/]+)$', ref['$ref'])\n",
    "        if match:\n",
    "            last_portion_list.append(json_spec[\"components\"][\"parameters\"][match.group(1)])\n",
    "    \n",
    "    return last_portion_list"
   ]
  },
  {
   "cell_type": "code",
   "execution_count": 175,
   "metadata": {},
   "outputs": [],
   "source": [
    "def process_api_operation(method, api_operation, json_spec):\n",
    "    if method == \"get\":\n",
    "        return api_operation\n",
    "    else:\n",
    "        request_schema = api_operation[\"requestBody\"][\"content\"][\"application/json\"][\"schema\"]\n",
    "        resolved_request = resolve_refs(request_schema, json_spec.dict_)\n",
    "        return resolved_request"
   ]
  },
  {
   "cell_type": "code",
   "execution_count": 176,
   "metadata": {},
   "outputs": [
    {
     "data": {
      "text/plain": [
       "{'description': 'Get Spotify catalog information for multiple albums identified by their Spotify IDs.\\n',\n",
       " 'operationId': 'get-multiple-albums',\n",
       " 'parameters': [{'in': 'query',\n",
       "   'name': 'ids',\n",
       "   'required': True,\n",
       "   'schema': {'description': 'A comma-separated list of the [Spotify IDs](/documentation/web-api/concepts/spotify-uris-ids) for the albums. Maximum: 20 IDs.\\n',\n",
       "    'example': '382ObEPsp2rxGrnsizN5TX,1A2GTWGtFfWp7KSQTwWOyo,2noRn2Aes5aoNVsU6iWThc',\n",
       "    'title': 'Spotify Album IDs',\n",
       "    'type': 'string'}},\n",
       "  {'in': 'query',\n",
       "   'name': 'market',\n",
       "   'required': False,\n",
       "   'schema': {'description': 'An [ISO 3166-1 alpha-2 country code](https://en.wikipedia.org/wiki/ISO_3166-1_alpha-2).\\n  If a country code is specified, only content that is available in that market will be returned.<br/>\\n  If a valid user access token is specified in the request header, the country associated with\\n  the user account will take priority over this parameter.<br/>\\n  _**Note**: If neither market or user country are provided, the content is considered unavailable for the client._<br/>\\n  Users can view the country that is associated with their account in the [account settings](https://www.spotify.com/se/account/overview/).\\n',\n",
       "    'example': 'ES',\n",
       "    'title': 'Market',\n",
       "    'type': 'string'}}],\n",
       " 'responses': {'200': {'$ref': '#/components/responses/ManyAlbums'},\n",
       "  '401': {'$ref': '#/components/responses/Unauthorized'},\n",
       "  '403': {'$ref': '#/components/responses/Forbidden'},\n",
       "  '429': {'$ref': '#/components/responses/TooManyRequests'}},\n",
       " 'security': [{'oauth_2_0': []}],\n",
       " 'summary': 'Get Several Albums\\n',\n",
       " 'tags': ['Albums'],\n",
       " 'x-spotify-docs-console-url': '/console/get-several-albums/',\n",
       " 'x-spotify-docs-endpoint-name': 'Get Multiple Albums',\n",
       " 'x-spotify-policy-list': {'$ref': '#/components/x-spotify-policy/metadataPolicyList'}}"
      ]
     },
     "execution_count": 176,
     "metadata": {},
     "output_type": "execute_result"
    }
   ],
   "source": [
    "api_operation, method=get_api_operation_by_id(json_spec, \"get-information-about-the-users-current-playback\")\n",
    "isolated_request = process_api_operation(method, api_operation, json_spec)\n",
    "isolated_request[\"parameters\"] = hydrateParams(json_spec.dict_, isolated_request[\"parameters\"])\n",
    "\n",
    "isolated_request"
   ]
  }
 ],
 "metadata": {
  "kernelspec": {
   "display_name": "venv",
   "language": "python",
   "name": "python3"
  },
  "language_info": {
   "codemirror_mode": {
    "name": "ipython",
    "version": 3
   },
   "file_extension": ".py",
   "mimetype": "text/x-python",
   "name": "python",
   "nbconvert_exporter": "python",
   "pygments_lexer": "ipython3",
   "version": "3.8.17"
  },
  "orig_nbformat": 4
 },
 "nbformat": 4,
 "nbformat_minor": 2
}
