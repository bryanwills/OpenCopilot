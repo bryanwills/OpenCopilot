{
 "cells": [
  {
   "cell_type": "code",
   "execution_count": 1,
   "metadata": {},
   "outputs": [
    {
     "data": {
      "text/plain": [
       "True"
      ]
     },
     "execution_count": 1,
     "metadata": {},
     "output_type": "execute_result"
    }
   ],
   "source": [
    "from langchain.agents import create_openapi_agent\n",
    "from langchain.agents.agent_toolkits import OpenAPIToolkit\n",
    "from langchain.requests import TextRequestsWrapper\n",
    "from langchain.tools.json.tool import JsonSpec\n",
    "import json, yaml\n",
    "from dotenv import load_dotenv\n",
    "\n",
    "load_dotenv()"
   ]
  },
  {
   "cell_type": "code",
   "execution_count": 2,
   "metadata": {},
   "outputs": [],
   "source": [
    "def get_api_operation_by_id(json_spec, s_operation_id):\n",
    "    paths = json_spec.dict_.get(\"paths\", {})\n",
    "    for path, methods in paths.items():\n",
    "        for method, operation in methods.items():\n",
    "            # Check if 'operation' is a dictionary\n",
    "            if isinstance(operation, dict):\n",
    "                operation_id = operation.get(\"operationId\")\n",
    "                \n",
    "                if operation_id == s_operation_id:\n",
    "                    return operation, method\n",
    "            else:\n",
    "                # Handle the case where 'operation' is not a dictionary\n",
    "                # print(f\"Skipping invalid operation: {operation}\")\n",
    "                pass\n"
   ]
  },
  {
   "cell_type": "code",
   "execution_count": 3,
   "metadata": {},
   "outputs": [],
   "source": [
    "import re\n",
    "\n",
    "def resolve_refs(input_dict, json_spec):\n",
    "    # Check if the input_dict is a dictionary and contains a '$ref' key\n",
    "    if isinstance(input_dict, dict) and '$ref' in input_dict:\n",
    "        ref_value = input_dict['$ref']\n",
    "        \n",
    "        # Use regular expression to extract the schema name\n",
    "        match = re.match(r'#/components/schemas/(\\w+)', ref_value)\n",
    "        if match:\n",
    "            schema_name = match.group(1)\n",
    "            \n",
    "            # Try to find the corresponding schema in the json_spec dictionary\n",
    "            schema = json_spec.dict_.get(\"components\", {}).get(\"schemas\", {}).get(schema_name)\n",
    "            \n",
    "            # If a matching schema is found, replace the '$ref' key with the schema\n",
    "            if schema:\n",
    "                return schema\n",
    "        \n",
    "    # Recursively process nested dictionaries and lists\n",
    "    if isinstance(input_dict, dict):\n",
    "        for key, value in input_dict.items():\n",
    "            input_dict[key] = resolve_refs(value, json_spec)\n",
    "    elif isinstance(input_dict, list):\n",
    "        for i, item in enumerate(input_dict):\n",
    "            input_dict[i] = resolve_refs(item, json_spec)\n",
    "    \n",
    "    return input_dict\n",
    "\n",
    "import re\n",
    "\n",
    "# ref_list -> [{'$ref': '#/components/parameters/QueryAlbumIds'},\n",
    "#  {'$ref': '#/components/parameters/QueryMarket'}]\n",
    "\n",
    "def hydrateParams(json_spec, ref_list):\n",
    "    last_portion_list = []\n",
    "    \n",
    "    for ref in ref_list:\n",
    "        if '$ref' in ref:  # Check if '$ref' exists in the dictionary\n",
    "            match = re.search(r'/([^/]+)$', ref['$ref'])\n",
    "            if match:\n",
    "                last_portion_list.append(json_spec[\"components\"][\"parameters\"][match.group(1)])\n",
    "        else:\n",
    "            # If '$ref' doesn't exist, add the reference as is\n",
    "            last_portion_list.append(ref)\n",
    "    \n",
    "    return last_portion_list"
   ]
  },
  {
   "cell_type": "code",
   "execution_count": 4,
   "metadata": {},
   "outputs": [],
   "source": [
    "def process_api_operation(method, api_operation, json_spec):    \n",
    "    request_body = api_operation.get(\"requestBody\")\n",
    "    \n",
    "    if not isinstance(request_body, dict):\n",
    "        return api_operation  # Return the request_schema if it's not a dictionary\n",
    "    \n",
    "    request_body = request_body[\"content\"][\"application/json\"][\"schema\"]\n",
    "    request_body = resolve_refs(request_body, json_spec.dict_)\n",
    "    api_operation[\"request_body\"] = request_body\n",
    "    return api_operation"
   ]
  },
  {
   "cell_type": "code",
   "execution_count": 5,
   "metadata": {},
   "outputs": [],
   "source": [
    "with open(\"openapi.yaml\") as f:\n",
    "    data = yaml.load(f, Loader=yaml.FullLoader)\n",
    "json_spec = JsonSpec(dict_=data, max_value_length=4000)\n",
    "\n",
    "api_operation, method=get_api_operation_by_id(json_spec, \"start-a-users-playback\")\n",
    "isolated_request = process_api_operation(method, api_operation, json_spec)\n",
    "\n",
    "if isolated_request and \"parameters\" in isolated_request:\n",
    "    isolated_request[\"parameters\"] = hydrateParams(json_spec.dict_, isolated_request[\"parameters\"])\n"
   ]
  },
  {
   "cell_type": "code",
   "execution_count": 6,
   "metadata": {},
   "outputs": [],
   "source": [
    "from langchain.llms.openai import OpenAI\n",
    "import os\n",
    "\n",
    "openai_api_key = os.getenv(\"OPENAI_API_KEY\")\n",
    "\n",
    "llm = OpenAI(openai_api_key=openai_api_key)\n",
    "from langchain.llms import OpenAI\n",
    "from langchain import PromptTemplate, LLMChain"
   ]
  },
  {
   "cell_type": "code",
   "execution_count": 16,
   "metadata": {},
   "outputs": [],
   "source": [
    "from langchain.memory import VectorStoreRetrieverMemory\n",
    "from langchain.embeddings.openai import OpenAIEmbeddings\n",
    "from langchain.vectorstores import Qdrant\n",
    "from langchain.docstore import InMemoryDocstore\n",
    "from langchain.embeddings.openai import OpenAIEmbeddings\n",
    "import qdrant_client\n",
    "from qdrant_client.models import Distance, VectorParams\n",
    "\n",
    "embeddings = OpenAIEmbeddings(openai_api_key=openai_api_key)\n",
    "client = qdrant_client.QdrantClient(url=\"http://localhost:6333\", prefer_grpc=True)\n",
    "client.create_collection(\"second_coll\", vectors_config=VectorParams(size=1536, distance=Distance.COSINE),)\n",
    "vector_store = Qdrant(client, collection_name=\"second_coll\", embeddings=embeddings)\n",
    "\n",
    "\n",
    "# Create the VectorStoreRetrieverMemory\n",
    "retriever = vector_store.as_retriever()\n",
    "memory = VectorStoreRetrieverMemory(retriever=retriever)"
   ]
  },
  {
   "cell_type": "code",
   "execution_count": 17,
   "metadata": {},
   "outputs": [
    {
     "name": "stdout",
     "output_type": "stream",
     "text": [
      "\n",
      "\n",
      "\u001b[1m> Entering new ConversationChain chain...\u001b[0m\n",
      "Prompt after formatting:\n",
      "\u001b[32;1m\u001b[1;3mGenerate a JSON API payload using the information from previous conversation and a Swagger OpenAPI schema. Your output must be a valid json starting with ```json and ending with ```\n",
      "\n",
      "Relevant pieces of previous conversation:\n",
      "\n",
      "\n",
      "(You do not need to use these pieces of information if not relevant)\n",
      "\n",
      "Current conversation:\n",
      "Human: My device id is 0d1841b0976bae2a3a310dd74c0f3df354899bc8, context uri is 5ht7ItJgpBH7W6vJ5BqpPr and track id is 4iV5W9uYEdYUVa79Axb7Rh\n",
      "    the openapi schema is {'description': \"Start a new context or resume current playback on the user's active device.\\n\", 'operationId': 'start-a-users-playback', 'parameters': [{'in': 'query', 'name': 'device_id', 'required': False, 'schema': {'description': \"The id of the device this command is targeting. If not supplied, the user's currently active device is the target.\", 'example': '0d1841b0976bae2a3a310dd74c0f3df354899bc8', 'title': 'Device ID', 'type': 'string'}}], 'requestBody': {'content': {'application/json': {'schema': {'additionalProperties': True, 'example': {'context_uri': 'spotify:album:5ht7ItJgpBH7W6vJ5BqpPr', 'offset': {'position': 5}, 'position_ms': 0}, 'properties': {'context_uri': {'additionalProperties': True, 'description': 'Optional. Spotify URI of the context to play.\\nValid contexts are albums, artists & playlists.\\n`{context_uri:\"spotify:album:1Je1IMUlBXcx1Fz0WE7oPT\"}`\\n', 'type': 'string'}, 'offset': {'additionalProperties': True, 'description': 'Optional. Indicates from where in the context playback should start. Only available when context_uri corresponds to an album or playlist object\\n\"position\" is zero based and can’t be negative. Example: `\"offset\": {\"position\": 5}`\\n\"uri\" is a string representing the uri of the item to start at. Example: `\"offset\": {\"uri\": \"spotify:track:1301WleyT98MSxVHPZCA6M\"}`\\n', 'type': 'object'}, 'position_ms': {'additionalProperties': True, 'description': 'integer', 'type': 'integer'}, 'uris': {'description': 'Optional. A JSON array of the Spotify track URIs to play.\\nFor example: `{\"uris\": [\"spotify:track:4iV5W9uYEdYUVa79Axb7Rh\", \"spotify:track:1301WleyT98MSxVHPZCA6M\"]}`\\n', 'items': {'type': 'string'}, 'type': 'array'}}, 'type': 'object'}}}}, 'responses': {'204': {'description': 'Playback started'}, '401': {'$ref': '#/components/responses/Unauthorized'}, '403': {'$ref': '#/components/responses/Forbidden'}, '429': {'$ref': '#/components/responses/TooManyRequests'}}, 'security': [{'oauth_2_0': ['user-modify-playback-state']}], 'summary': 'Start/Resume Playback\\n', 'tags': ['Player'], 'x-spotify-docs-console-url': '/console/put-play/', 'x-spotify-docs-endpoint-name': \"Start/Resume a User's Playback\", 'x-spotify-policy-list': {'$ref': '#/components/x-spotify-policy/playerPolicyList'}, 'request_body': {'additionalProperties': True, 'example': {'context_uri': 'spotify:album:5ht7ItJgpBH7W6vJ5BqpPr', 'offset': {'position': 5}, 'position_ms': 0}, 'properties': {'context_uri': {'additionalProperties': True, 'description': 'Optional. Spotify URI of the context to play.\\nValid contexts are albums, artists & playlists.\\n`{context_uri:\"spotify:album:1Je1IMUlBXcx1Fz0WE7oPT\"}`\\n', 'type': 'string'}, 'offset': {'additionalProperties': True, 'description': 'Optional. Indicates from where in the context playback should start. Only available when context_uri corresponds to an album or playlist object\\n\"position\" is zero based and can’t be negative. Example: `\"offset\": {\"position\": 5}`\\n\"uri\" is a string representing the uri of the item to start at. Example: `\"offset\": {\"uri\": \"spotify:track:1301WleyT98MSxVHPZCA6M\"}`\\n', 'type': 'object'}, 'position_ms': {'additionalProperties': True, 'description': 'integer', 'type': 'integer'}, 'uris': {'description': 'Optional. A JSON array of the Spotify track URIs to play.\\nFor example: `{\"uris\": [\"spotify:track:4iV5W9uYEdYUVa79Axb7Rh\", \"spotify:track:1301WleyT98MSxVHPZCA6M\"]}`\\n', 'items': {'type': 'string'}, 'type': 'array'}}, 'type': 'object'}}\n",
      "\n",
      "The API payload is: \u001b[0m\n",
      "\n",
      "\u001b[1m> Finished chain.\u001b[0m\n"
     ]
    }
   ],
   "source": [
    "from langchain.prompts import PromptTemplate\n",
    "\n",
    "from langchain.chains import ConversationChain\n",
    "\n",
    "_DEFAULT_TEMPLATE = \"\"\"Generate a JSON API payload using the information from previous conversation and a Swagger OpenAPI schema. Your output must be a valid json starting with ```json and ending with ```\n",
    "\n",
    "Relevant pieces of previous conversation:\n",
    "{history}\n",
    "\n",
    "(You do not need to use these pieces of information if not relevant)\n",
    "\n",
    "Current conversation:\n",
    "Human: {input}\n",
    "The API payload is: \"\"\"\n",
    "\n",
    "PROMPT = PromptTemplate(\n",
    "    input_variables=[\"history\", \"input\"], template=_DEFAULT_TEMPLATE\n",
    ")\n",
    "conversation_with_summary = ConversationChain(\n",
    "    llm=llm, \n",
    "    prompt=PROMPT,\n",
    "    memory=memory,\n",
    "    verbose=True\n",
    ")\n",
    "json_string = conversation_with_summary.predict(input=f\"\"\"My device id is 0d1841b0976bae2a3a310dd74c0f3df354899bc8, context uri is 5ht7ItJgpBH7W6vJ5BqpPr and track id is 4iV5W9uYEdYUVa79Axb7Rh\n",
    "    the openapi schema is {isolated_request}\n",
    "\"\"\")\n"
   ]
  },
  {
   "cell_type": "code",
   "execution_count": 18,
   "metadata": {},
   "outputs": [],
   "source": [
    "\n",
    "def extract_json_payload(input_string):\n",
    "    try:\n",
    "        # Find the start and end positions of the JSON payload\n",
    "        start_index = input_string.find('```json') + len('```json')\n",
    "        end_index = input_string.rfind('```')\n",
    "\n",
    "        # Extract the JSON payload\n",
    "        json_payload = input_string[start_index:end_index]\n",
    "\n",
    "        # Parse the JSON payload\n",
    "        parsed_json = json.loads(json_payload)\n",
    "        return parsed_json\n",
    "    except json.JSONDecodeError as e:\n",
    "        return None, f\"Error parsing JSON: {e}\""
   ]
  },
  {
   "cell_type": "code",
   "execution_count": null,
   "metadata": {},
   "outputs": [
    {
     "data": {
      "text/plain": [
       "{'device_id': '0d1841b0976bae2a3a310dd74c0f3df354899bc8',\n",
       " 'context_uri': 'spotify:album:5ht7ItJgpBH7W6vJ5BqpPr',\n",
       " 'offset': {'position': 5},\n",
       " 'position_ms': 0,\n",
       " 'uris': ['spotify:track:4iV5W9uYEdYUVa79Axb7Rh',\n",
       "  'spotify:track:1301WleyT98MSxVHPZCA6M']}"
      ]
     },
     "execution_count": 23,
     "metadata": {},
     "output_type": "execute_result"
    }
   ],
   "source": [
    "extract_json_payload(json_string)"
   ]
  },
  {
   "cell_type": "code",
   "execution_count": null,
   "metadata": {},
   "outputs": [],
   "source": []
  }
 ],
 "metadata": {
  "kernelspec": {
   "display_name": "venv",
   "language": "python",
   "name": "python3"
  },
  "language_info": {
   "codemirror_mode": {
    "name": "ipython",
    "version": 3
   },
   "file_extension": ".py",
   "mimetype": "text/x-python",
   "name": "python",
   "nbconvert_exporter": "python",
   "pygments_lexer": "ipython3",
   "version": "3.8.17"
  },
  "orig_nbformat": 4
 },
 "nbformat": 4,
 "nbformat_minor": 2
}
