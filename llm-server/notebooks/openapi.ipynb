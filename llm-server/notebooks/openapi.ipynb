{
 "cells": [
  {
   "cell_type": "code",
   "execution_count": 2,
   "metadata": {},
   "outputs": [],
   "source": [
    "from langchain.agents import create_openapi_agent\n",
    "from langchain.agents.agent_toolkits import OpenAPIToolkit\n",
    "from langchain.llms.openai import OpenAI\n",
    "from langchain.requests import TextRequestsWrapper\n",
    "from langchain.tools.json.tool import JsonSpec\n",
    "\n",
    "import json, yaml"
   ]
  },
  {
   "cell_type": "code",
   "execution_count": 3,
   "metadata": {},
   "outputs": [],
   "source": [
    "with open(\"openapi.yaml\") as f:\n",
    "    data = yaml.load(f, Loader=yaml.FullLoader)\n",
    "json_spec = JsonSpec(dict_=data, max_value_length=4000)"
   ]
  },
  {
   "cell_type": "code",
   "execution_count": 4,
   "metadata": {},
   "outputs": [],
   "source": [
    "def get_api_operation_by_id(json_spec, operation_id):\n",
    "    paths = json_spec.dict_.get(\"paths\", {})\n",
    "    for path, methods in paths.items():\n",
    "        for method, operation in methods.items():\n",
    "            if operation.get(\"operationId\") == operation_id:\n",
    "                return operation, method\n",
    "\n",
    "    # If the operation ID is not found, return None\n",
    "    return None\n"
   ]
  },
  {
   "cell_type": "code",
   "execution_count": 5,
   "metadata": {},
   "outputs": [],
   "source": [
    "api_operation, method=get_api_operation_by_id(json_spec, \"get-multiple-albums\")"
   ]
  },
  {
   "cell_type": "code",
   "execution_count": 6,
   "metadata": {},
   "outputs": [
    {
     "name": "stdout",
     "output_type": "stream",
     "text": [
      "{'description': 'Get Spotify catalog information for multiple albums identified by their Spotify IDs.\\n', 'operationId': 'get-multiple-albums', 'parameters': [{'$ref': '#/components/parameters/QueryAlbumIds'}, {'$ref': '#/components/parameters/QueryMarket'}], 'responses': {'200': {'$ref': '#/components/responses/ManyAlbums'}, '401': {'$ref': '#/components/responses/Unauthorized'}, '403': {'$ref': '#/components/responses/Forbidden'}, '429': {'$ref': '#/components/responses/TooManyRequests'}}, 'security': [{'oauth_2_0': []}], 'summary': 'Get Several Albums\\n', 'tags': ['Albums'], 'x-spotify-docs-console-url': '/console/get-several-albums/', 'x-spotify-docs-endpoint-name': 'Get Multiple Albums', 'x-spotify-policy-list': {'$ref': '#/components/x-spotify-policy/metadataPolicyList'}} get\n"
     ]
    }
   ],
   "source": [
    "print(api_operation, method)"
   ]
  },
  {
   "cell_type": "code",
   "execution_count": 7,
   "metadata": {},
   "outputs": [],
   "source": [
    "import re\n",
    "\n",
    "def resolve_refs(input_dict, json_spec):\n",
    "    # Check if the input_dict is a dictionary and contains a '$ref' key\n",
    "    if isinstance(input_dict, dict) and '$ref' in input_dict:\n",
    "        ref_value = input_dict['$ref']\n",
    "        \n",
    "        # Use regular expression to extract the schema name\n",
    "        match = re.match(r'#/components/schemas/(\\w+)', ref_value)\n",
    "        if match:\n",
    "            schema_name = match.group(1)\n",
    "            \n",
    "            # Try to find the corresponding schema in the json_spec dictionary\n",
    "            schema = json_spec.dict_.get(\"components\", {}).get(\"schemas\", {}).get(schema_name)\n",
    "            \n",
    "            # If a matching schema is found, replace the '$ref' key with the schema\n",
    "            if schema:\n",
    "                return schema\n",
    "        \n",
    "    # Recursively process nested dictionaries and lists\n",
    "    if isinstance(input_dict, dict):\n",
    "        for key, value in input_dict.items():\n",
    "            input_dict[key] = resolve_refs(value, json_spec)\n",
    "    elif isinstance(input_dict, list):\n",
    "        for i, item in enumerate(input_dict):\n",
    "            input_dict[i] = resolve_refs(item, json_spec)\n",
    "    \n",
    "    return input_dict"
   ]
  },
  {
   "cell_type": "code",
   "execution_count": 8,
   "metadata": {},
   "outputs": [
    {
     "ename": "NameError",
     "evalue": "name 'resolve_references_in_json_spec' is not defined",
     "output_type": "error",
     "traceback": [
      "\u001b[0;31m---------------------------------------------------------------------------\u001b[0m",
      "\u001b[0;31mNameError\u001b[0m                                 Traceback (most recent call last)",
      "Cell \u001b[0;32mIn[8], line 7\u001b[0m\n\u001b[1;32m      1\u001b[0m \u001b[39m# if method == \"get\":\u001b[39;00m\n\u001b[1;32m      2\u001b[0m \u001b[39m#     return api_operation\u001b[39;00m\n\u001b[1;32m      3\u001b[0m \u001b[39m# else:\u001b[39;00m\n\u001b[1;32m      4\u001b[0m \u001b[39m#     input_dict = api_operation[\"requestBody\"][\"content\"][\"application/json\"][\"schema\"]\u001b[39;00m\n\u001b[1;32m      5\u001b[0m \u001b[39m#     result = resolve_refs(input_dict, json_spec)\u001b[39;00m\n\u001b[0;32m----> 7\u001b[0m json_spec \u001b[39m=\u001b[39m resolve_references_in_json_spec(json_spec\u001b[39m.\u001b[39mdict_)\n\u001b[1;32m      9\u001b[0m input_dict \u001b[39m=\u001b[39m api_operation[\u001b[39m\"\u001b[39m\u001b[39mrequestBody\u001b[39m\u001b[39m\"\u001b[39m][\u001b[39m\"\u001b[39m\u001b[39mcontent\u001b[39m\u001b[39m\"\u001b[39m][\u001b[39m\"\u001b[39m\u001b[39mapplication/json\u001b[39m\u001b[39m\"\u001b[39m][\u001b[39m\"\u001b[39m\u001b[39mschema\u001b[39m\u001b[39m\"\u001b[39m]\n\u001b[1;32m     11\u001b[0m result \u001b[39m=\u001b[39m resolve_references(input_dict, json_spec)\n",
      "\u001b[0;31mNameError\u001b[0m: name 'resolve_references_in_json_spec' is not defined"
     ]
    }
   ],
   "source": [
    "# if method == \"get\":\n",
    "#     return api_operation\n",
    "# else:\n",
    "#     input_dict = api_operation[\"requestBody\"][\"content\"][\"application/json\"][\"schema\"]\n",
    "#     result = resolve_refs(input_dict, json_spec)\n",
    "\n",
    "json_spec = resolve_references_in_json_spec(json_spec.dict_)\n",
    "\n",
    "input_dict = api_operation[\"requestBody\"][\"content\"][\"application/json\"][\"schema\"]\n",
    "\n",
    "result = resolve_references(input_dict, json_spec)\n",
    "print(result)"
   ]
  },
  {
   "cell_type": "code",
   "execution_count": null,
   "metadata": {},
   "outputs": [],
   "source": [
    "json.loads(json.dumps(result, indent=4))"
   ]
  }
 ],
 "metadata": {
  "kernelspec": {
   "display_name": "venv",
   "language": "python",
   "name": "python3"
  },
  "language_info": {
   "codemirror_mode": {
    "name": "ipython",
    "version": 3
   },
   "file_extension": ".py",
   "mimetype": "text/x-python",
   "name": "python",
   "nbconvert_exporter": "python",
   "pygments_lexer": "ipython3",
   "version": "3.8.17"
  },
  "orig_nbformat": 4
 },
 "nbformat": 4,
 "nbformat_minor": 2
}
